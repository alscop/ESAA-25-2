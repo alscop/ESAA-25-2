{
  "nbformat": 4,
  "nbformat_minor": 0,
  "metadata": {
    "colab": {
      "provenance": []
    },
    "kernelspec": {
      "name": "python3",
      "display_name": "Python 3"
    },
    "language_info": {
      "name": "python"
    }
  },
  "cells": [
    {
      "cell_type": "markdown",
      "source": [
        "# Chaepter01 : 파이썬 기반의 머신러닝과 생태계 이해\n",
        "\n",
        "## 01. 머신러닝의 개념\n",
        "\n",
        "머신러닝: 애플리케이션을 수정하지 않고도 데이터를 기반으로 패턴을 학습하고 결과를 예측하는 알고리즘 기법\n",
        "\n",
        "### 머신러닝의 분류\n",
        "\n",
        "[지도학습]\n",
        "- **분류**\n",
        "- **회귀**\n",
        "- 추천 시스템\n",
        "- 시각/음성 감지/인지\n",
        "- 텍스트 분석, NLP\n",
        "\n",
        "[비지도학습]\n",
        "- 클러스터링\n",
        "- 차원 축소\n",
        "- 강화 학습\n",
        "\n",
        "\n",
        "### 데이터 전쟁\n",
        "\n",
        "데이터, 머신러닝 알고리즘 모두 중요한 요소.  \n",
        "머신러닝은 데이터에 매우 의존적.  \n",
        "-> 데이터를 이해하고 효율적으로 가공, 처리, 추출해 최적의 데이터를 기반으로 알고리즘을 구동할 수 있도록 준비하는 능력이 중요함.\n",
        "\n",
        "\n",
        "### 파이썬과 R 기반의 머신러닝 비교\n",
        "\n",
        "개발 생산성, 지원 패키지, 생태계 측면에서 머신러닝 분야에서 인기 있음\n",
        "\n",
        "R: 통계 전용 프로그램 언어. 많은 통계 패키지를 보유.  \n",
        "파이썬: 다양한 영역에서 사용. 개발 전문 프로그램 언어. 프로그래밍 주류 언어.\n",
        "\n",
        "**\"파이썬은 소리없이 프로그래밍 세계를 점령하고 있는 언어\"**  \n",
        "딥러닝 프레임 워크에서 파이썬 우선 정책 시행중 + 파이썬을 중심으로 발전될 것.\n",
        "\n",
        "\n",
        "## 02. 파이썬 머신러닝 생태계를 구성하는 주요 패키지\n",
        "\n",
        "- 머신러닝 패키지\n",
        "  - 사이킷런(Scikit-Learn)\n",
        "- 행렬/선형대수/통계 패키지\n",
        "  - 넘파이(NumPy)\n",
        "  - 사이파이(SciPy)\n",
        "- 데이터 핸들링\n",
        "  - 판다스: 2차원 데이터 처리 특화\n",
        "- 시각화\n",
        "  - 맷플롯립(Matplotlib): 세분화된 API, 투박한 디자인이 단점.\n",
        "  - 시본(Seaborn): 맷플롯립 기반, 판다스와 쉬운 연동, 함축적인 API, 다양한 그래프/차트 제공\n",
        "\n",
        "\n",
        "**넘파이, 판다스 이해가 매우 중요**  \n",
        "사이킷런의 머신러닝 알고리즘에 입력하기 위한 데이터의 추출/가공/변형, 원하는 차원 배열로의 변환 등 머신러닝 알고리즘 처리 결과에 대한 다양한 가공 등으로 코드를 작성.\n",
        "\n",
        "## 03. 넘파이\n",
        "\n",
        "NumPy(Numerical Python)\n",
        "- 선형대수 기반의 프로그램을 쉽게 만들 수 있도록 지원\n",
        "- 루프 사용 X 빠른 배열 연산 속도\n",
        "- C/C++ 저수준 언어 기반 호환 API 제공\n",
        "- 다양한 데이터 핸들링 기능 제공 But 판다스가 더 편리\n",
        "\n",
        "### 넘파이 ndarray 개요\n",
        "\n",
        "다차원 배열 쉽게 생성, 다양한 연산 수행 가능"
      ],
      "metadata": {
        "id": "fvo5EXCaFKew"
      }
    },
    {
      "cell_type": "code",
      "source": [
        "import numpy as np #as np 약어로 모듈 표현하는 것이 관례"
      ],
      "metadata": {
        "id": "F0htC9MAJRdE"
      },
      "execution_count": 1,
      "outputs": []
    },
    {
      "cell_type": "markdown",
      "source": [
        "\n",
        "`array()` ndarray로 변환  \n",
        "크기, 행&열의 수로 배열 차원도 알 수 有\n",
        "\n",
        "`np.array()`: ndarray로 반환  \n",
        "인자로 리스트 객체 [], [[]]가 주로 사용됨. 배열 차원, 크기 표현 쉬움\n",
        "\n",
        "**`ndarray.shape`**: ndarray의 차원, 크기를 tuple 형태로 나타냄\n",
        "- (3,): *1차원 array*, 데이터 3개\n",
        "- (2,3): 2차원 array, 데이터 2*3=6개\n",
        "- (1,3): 2차원 array, 데이터 3개\n",
        "\n",
        "`ndarray.ndim`: 각 array의 차원 확인 ..."
      ],
      "metadata": {
        "id": "-GI0sAiaHjLi"
      }
    },
    {
      "cell_type": "code",
      "source": [
        "array1 = np.array([1,2,3])\n",
        "print('array1 type:', type(array1))\n",
        "print('array1 array 형태:', array1.shape)\n",
        "\n",
        "array2 = np.array([[1,2,3],\n",
        "                   [2,3,4]])\n",
        "print('array2 type:', type(array2))\n",
        "print('array2 array 형태:', array2.shape)\n",
        "\n",
        "array3 = np.array([[1,2,3]])\n",
        "print('array3 type:', type(array3))\n",
        "print('array3 array 형태:', array3.shape)"
      ],
      "metadata": {
        "colab": {
          "base_uri": "https://localhost:8080/"
        },
        "id": "WIABUbeATTCt",
        "outputId": "5f7a9409-efc4-45be-ae17-69f911833146"
      },
      "execution_count": 2,
      "outputs": [
        {
          "output_type": "stream",
          "name": "stdout",
          "text": [
            "array1 type: <class 'numpy.ndarray'>\n",
            "array1 array 형태: (3,)\n",
            "array2 type: <class 'numpy.ndarray'>\n",
            "array2 array 형태: (2, 3)\n",
            "array3 type: <class 'numpy.ndarray'>\n",
            "array3 array 형태: (1, 3)\n"
          ]
        }
      ]
    },
    {
      "cell_type": "code",
      "source": [
        "print('array1: {0}차원, array2: {1}차원, array3: {2}차원'.format(array1.ndim,\n",
        "                                                           array2.ndim, array3.ndim))"
      ],
      "metadata": {
        "colab": {
          "base_uri": "https://localhost:8080/"
        },
        "id": "DmFZKbd-UfK4",
        "outputId": "0d9fb699-5033-476a-b7cc-049e13204afb"
      },
      "execution_count": 3,
      "outputs": [
        {
          "output_type": "stream",
          "name": "stdout",
          "text": [
            "array1: 1차원, array2: 2차원, array3: 2차원\n"
          ]
        }
      ]
    },
    {
      "cell_type": "markdown",
      "source": [
        "### ndarray의 데이터 타입\n",
        "\n",
        "데이터값: 숫자 값, 문자열 값, 불 값 등 모두 가능\n",
        "데이터 타입: ndarray 내에서는 **같은 데이터 타입만 가능**  \n",
        "-> 다른 데이터 유형이 섞여있는 경우, 데이터 크기가 더 큰 데이터 타입으로 형 변환 일괄 적용.\n",
        "- int & 문자열 -> 문자열\n",
        "- int & float -> float형\n",
        "\n",
        "**`ndarray.dtype`**: 데이터 타입 확인 가능\n",
        "\n",
        "**`ndarray.astype('')`**: 데이터값 타입 변경 가능, 문자열로 지정.\n",
        "- float -> int : 메모리 절약, 소수점 이하 생략\n",
        "\n",
        "\n"
      ],
      "metadata": {
        "id": "dw3nayajbsMc"
      }
    },
    {
      "cell_type": "code",
      "source": [
        "list1 = [1,2,3]\n",
        "print(type(list1))\n",
        "array1 = np.array(list1)\n",
        "print(type(array1))\n",
        "print(array1, array1.dtype)"
      ],
      "metadata": {
        "colab": {
          "base_uri": "https://localhost:8080/"
        },
        "id": "QXc5EnqfXkzK",
        "outputId": "1b60fdc0-9c07-4739-cb19-59e8ffec90ae"
      },
      "execution_count": 5,
      "outputs": [
        {
          "output_type": "stream",
          "name": "stdout",
          "text": [
            "<class 'list'>\n",
            "<class 'numpy.ndarray'>\n",
            "[1 2 3] int64\n"
          ]
        }
      ]
    },
    {
      "cell_type": "code",
      "source": [
        "list2 = [1,2,'test']\n",
        "array2 = np.array(list2)\n",
        "print(array2, array2.dtype)\n",
        "\n",
        "list3 = [1,2,3.0]\n",
        "array3 = np.array(list3)\n",
        "print(array3, array3.dtype)"
      ],
      "metadata": {
        "colab": {
          "base_uri": "https://localhost:8080/"
        },
        "id": "iWPC84XtYxHt",
        "outputId": "94487152-4878-44f7-c97a-de8665ad01c9"
      },
      "execution_count": 6,
      "outputs": [
        {
          "output_type": "stream",
          "name": "stdout",
          "text": [
            "['1' '2' 'test'] <U21\n",
            "[1. 2. 3.] float64\n"
          ]
        }
      ]
    },
    {
      "cell_type": "code",
      "source": [
        "array_int = np.array([1,2,3])\n",
        "array_float = array_int.astype('float64')\n",
        "print(array_float, array_float.dtype)\n",
        "\n",
        "array_int1 = array_float.astype('int32')\n",
        "print(array_int1, array_int1.dtype)\n",
        "\n",
        "array_float1 = np.array([1.1, 2.1, 3.1])\n",
        "array_int2 = array_float1.astype('int32')\n",
        "print(array_int2, array_int2.dtype)"
      ],
      "metadata": {
        "colab": {
          "base_uri": "https://localhost:8080/"
        },
        "id": "BLF5HjBDZ6dU",
        "outputId": "b7f66bfb-57c4-4177-813e-8720d2579d24"
      },
      "execution_count": 7,
      "outputs": [
        {
          "output_type": "stream",
          "name": "stdout",
          "text": [
            "[1. 2. 3.] float64\n",
            "[1 2 3] int32\n",
            "[1 2 3] int32\n"
          ]
        }
      ]
    },
    {
      "cell_type": "markdown",
      "source": [
        "### ndarray를 편리하게 생성하기 - arange, zeros, ones\n",
        "\n",
        "테스트용 데이터 만들기 / 대규모 데이터 일괄 초기화에 사용.\n",
        "\n",
        "**`arange()`**: array를 range()로 표현  \n",
        "함수 인자 = stop 값. 0부터 함수 인자 값 -1까지의 값을 순차적으로 변환.\n",
        "\n",
        "`zeros((,), dtype='')`: 지정 shape를 가진 모든 값이 0인 ndarray 반환\n",
        "`ones((,))`: ... 모든 값이 1인 ...\n",
        "\n"
      ],
      "metadata": {
        "id": "0tlTlBkWHt72"
      }
    },
    {
      "cell_type": "code",
      "source": [
        "sequence_array = np.arange(10)\n",
        "print(sequence_array)\n",
        "print(sequence_array.dtype, sequence_array.shape)"
      ],
      "metadata": {
        "colab": {
          "base_uri": "https://localhost:8080/"
        },
        "id": "M4B4KQ1WbTVP",
        "outputId": "725ef41c-0621-4c72-a6db-4067dad65fdf"
      },
      "execution_count": 8,
      "outputs": [
        {
          "output_type": "stream",
          "name": "stdout",
          "text": [
            "[0 1 2 3 4 5 6 7 8 9]\n",
            "int64 (10,)\n"
          ]
        }
      ]
    },
    {
      "cell_type": "code",
      "source": [
        "zero_array = np.zeros((3,2), dtype='int32')\n",
        "print(zero_array)\n",
        "print(zero_array.dtype, zero_array.shape)\n",
        "\n",
        "one_array = np.ones((3,2))\n",
        "print(one_array)\n",
        "print(one_array.dtype, one_array.shape)"
      ],
      "metadata": {
        "colab": {
          "base_uri": "https://localhost:8080/"
        },
        "id": "lHD6cf2pcP4z",
        "outputId": "a5da4057-5e67-4ae4-a349-a8423a464e7a"
      },
      "execution_count": 9,
      "outputs": [
        {
          "output_type": "stream",
          "name": "stdout",
          "text": [
            "[[0 0]\n",
            " [0 0]\n",
            " [0 0]]\n",
            "int32 (3, 2)\n",
            "[[1. 1.]\n",
            " [1. 1.]\n",
            " [1. 1.]]\n",
            "float64 (3, 2)\n"
          ]
        }
      ]
    },
    {
      "cell_type": "markdown",
      "source": [
        "\n",
        "### ndarray의 차원과 크기를 변경하는 reshape()\n",
        "\n",
        "`ndarray.reshape(,)`: 특정 차원, 크기로 변환.  \n",
        "인자로 **'-1'** 적용시 고정된 값에 맞춰 자동으로 생성해 변환됨  \n",
        "(단, 변경 가능한 사이즈 입력해야함)\n",
        "- reshape(-1,1): 자주 사용. 2차원, 반드시 1개의 칼럼을 가진 ndarray로 변환. 형태 통일에 유용\n",
        "\n",
        "* `ndarrayName.tolist()`:리스트 자료형으로 변환."
      ],
      "metadata": {
        "id": "LGDdqomwHyNj"
      }
    },
    {
      "cell_type": "code",
      "source": [
        "array1 = np.arange(10)\n",
        "print('array1:\\n', array1)\n",
        "\n",
        "array2 = array1.reshape(2,5)\n",
        "print('array2:\\n', array2)\n",
        "\n",
        "array3 = array1.reshape(5,2)\n",
        "print('array3:\\n', array3)"
      ],
      "metadata": {
        "colab": {
          "base_uri": "https://localhost:8080/"
        },
        "id": "NNdkOIfeeiqK",
        "outputId": "e7ce6d36-a3e6-4d2d-99b2-add3430fbc45"
      },
      "execution_count": 12,
      "outputs": [
        {
          "output_type": "stream",
          "name": "stdout",
          "text": [
            "array1:\n",
            " [0 1 2 3 4 5 6 7 8 9]\n",
            "array2:\n",
            " [[0 1 2 3 4]\n",
            " [5 6 7 8 9]]\n",
            "array3:\n",
            " [[0 1]\n",
            " [2 3]\n",
            " [4 5]\n",
            " [6 7]\n",
            " [8 9]]\n"
          ]
        }
      ]
    },
    {
      "cell_type": "code",
      "source": [
        "array1.reshape(4,3)"
      ],
      "metadata": {
        "colab": {
          "base_uri": "https://localhost:8080/",
          "height": 147
        },
        "id": "q8y8Cm6bgnGL",
        "outputId": "2348bdd9-d8b8-4008-c5e6-fb4b95602a11"
      },
      "execution_count": 13,
      "outputs": [
        {
          "output_type": "error",
          "ename": "ValueError",
          "evalue": "cannot reshape array of size 10 into shape (4,3)",
          "traceback": [
            "\u001b[0;31m---------------------------------------------------------------------------\u001b[0m",
            "\u001b[0;31mValueError\u001b[0m                                Traceback (most recent call last)",
            "\u001b[0;32m/tmp/ipython-input-1938297127.py\u001b[0m in \u001b[0;36m<cell line: 0>\u001b[0;34m()\u001b[0m\n\u001b[0;32m----> 1\u001b[0;31m \u001b[0marray1\u001b[0m\u001b[0;34m.\u001b[0m\u001b[0mreshape\u001b[0m\u001b[0;34m(\u001b[0m\u001b[0;36m4\u001b[0m\u001b[0;34m,\u001b[0m\u001b[0;36m3\u001b[0m\u001b[0;34m)\u001b[0m\u001b[0;34m\u001b[0m\u001b[0;34m\u001b[0m\u001b[0m\n\u001b[0m",
            "\u001b[0;31mValueError\u001b[0m: cannot reshape array of size 10 into shape (4,3)"
          ]
        }
      ]
    },
    {
      "cell_type": "code",
      "source": [
        "array1 = np.arange(10)\n",
        "print(array1)\n",
        "array2 = array1.reshape(-1,5)\n",
        "print('array2 shape:', array2.shape)\n",
        "array3 = array1.reshape(5,-1)\n",
        "print('array3 shape:', array3.shape)"
      ],
      "metadata": {
        "colab": {
          "base_uri": "https://localhost:8080/"
        },
        "id": "UgGwrrXLhQCY",
        "outputId": "219d545f-91a5-48a5-f42e-b96f2ce67775"
      },
      "execution_count": 14,
      "outputs": [
        {
          "output_type": "stream",
          "name": "stdout",
          "text": [
            "[0 1 2 3 4 5 6 7 8 9]\n",
            "array2 shape: (2, 5)\n",
            "array3 shape: (5, 2)\n"
          ]
        }
      ]
    },
    {
      "cell_type": "code",
      "source": [
        "array1 = np.arange(10)\n",
        "array4 = array1.reshape(-1,4)"
      ],
      "metadata": {
        "colab": {
          "base_uri": "https://localhost:8080/",
          "height": 166
        },
        "id": "gjMo7c7jhjy6",
        "outputId": "4a0a46f5-50d6-47b2-ae8d-bd0ef93eb2cd"
      },
      "execution_count": 15,
      "outputs": [
        {
          "output_type": "error",
          "ename": "ValueError",
          "evalue": "cannot reshape array of size 10 into shape (4)",
          "traceback": [
            "\u001b[0;31m---------------------------------------------------------------------------\u001b[0m",
            "\u001b[0;31mValueError\u001b[0m                                Traceback (most recent call last)",
            "\u001b[0;32m/tmp/ipython-input-3911823226.py\u001b[0m in \u001b[0;36m<cell line: 0>\u001b[0;34m()\u001b[0m\n\u001b[1;32m      1\u001b[0m \u001b[0marray1\u001b[0m \u001b[0;34m=\u001b[0m \u001b[0mnp\u001b[0m\u001b[0;34m.\u001b[0m\u001b[0marange\u001b[0m\u001b[0;34m(\u001b[0m\u001b[0;36m10\u001b[0m\u001b[0;34m)\u001b[0m\u001b[0;34m\u001b[0m\u001b[0;34m\u001b[0m\u001b[0m\n\u001b[0;32m----> 2\u001b[0;31m \u001b[0marray4\u001b[0m \u001b[0;34m=\u001b[0m \u001b[0marray1\u001b[0m\u001b[0;34m.\u001b[0m\u001b[0mreshape\u001b[0m\u001b[0;34m(\u001b[0m\u001b[0;34m-\u001b[0m\u001b[0;36m1\u001b[0m\u001b[0;34m,\u001b[0m\u001b[0;36m4\u001b[0m\u001b[0;34m)\u001b[0m\u001b[0;34m\u001b[0m\u001b[0;34m\u001b[0m\u001b[0m\n\u001b[0m",
            "\u001b[0;31mValueError\u001b[0m: cannot reshape array of size 10 into shape (4)"
          ]
        }
      ]
    },
    {
      "cell_type": "code",
      "source": [
        "array1 = np.arange(8)\n",
        "array3d = array1.reshape((2,2,2))\n",
        "print('array3d:\\n', array3d.tolist())\n",
        "\n",
        "# 3차원 ndarray를 2차원 ndarray로 변환\n",
        "array5 = array3d.reshape(-1,1)\n",
        "print('array5:\\n', array5.tolist())\n",
        "print('array5 shape:', array5.shape)\n",
        "\n",
        "# 1차원 ndarray를 2차원 ndarray로 변환\n",
        "array6 = array1.reshape(-1,1)\n",
        "print('array6:\\n', array6.tolist())\n",
        "print('array6 shape:', array6.shape)"
      ],
      "metadata": {
        "colab": {
          "base_uri": "https://localhost:8080/"
        },
        "id": "-jTaid-_iVVo",
        "outputId": "76b2e016-46f9-4dc8-ac2e-8d092babe521"
      },
      "execution_count": 16,
      "outputs": [
        {
          "output_type": "stream",
          "name": "stdout",
          "text": [
            "array3d:\n",
            " [[[0, 1], [2, 3]], [[4, 5], [6, 7]]]\n",
            "array5:\n",
            " [[0], [1], [2], [3], [4], [5], [6], [7]]\n",
            "array5 shape: (8, 1)\n",
            "array6:\n",
            " [[0], [1], [2], [3], [4], [5], [6], [7]]\n",
            "array6 shape: (8, 1)\n"
          ]
        }
      ]
    },
    {
      "cell_type": "markdown",
      "source": [
        "### 넘파이의 ndarray의 데이터 세트 선택하기 - 인덱싱(Indexing)\n",
        "\n",
        "인덱싱: ndaraay 내의 일부 데이터 세트나 특정 데이터만을 선택하는 것\n",
        "\n",
        "1. 특정 데이터만 추출: 원하는 위치의 인덱스 값 지정.\n",
        "2. 슬라이싱(Slicing): 연속된 인덱스상의 ndarray를 추출.  \n",
        "  - '시작 인덱스:종료 인덱스' -> 시작 인덱스 ~ 종료 인덱스-1 위치\n",
        "3. 팬시 인덱싱(Fancy Indexing): 일정한 인덱싱 집합을 리스트 또는 ndarray 형태로 지정, 해당 위치\n",
        "4. 불린 인덱싱(Boolean Indexing): 특정 조건에 해당 여부 T/F 값 인덱싱 집합에서 True에 해당하는 인덱스 위치\n",
        "\n",
        "#### 단일 값 추출\n",
        "\n",
        "1차원 ndarray에서 ...\n",
        "`arrayName[]`: 인덱스 값 입력, 지정.  \n",
        "단일 값 추출에서만 데이터 타입이 ndarray가 아니라 그 내의 '데이터값'의 타입이 됨."
      ],
      "metadata": {
        "id": "dj3z7OtumADd"
      }
    },
    {
      "cell_type": "code",
      "source": [
        "# 1부터 9까지의 1차원 ndarray 생성\n",
        "array1 = np.arange(start=1, stop=10)\n",
        "print('array1:', array1)\n",
        "\n",
        "# index는 0부터 시작하므로 array1[2]는 3번째 index 위치의 데이터값을 의미\n",
        "value = array1[2]\n",
        "print('value:', value)\n",
        "print(type(value))"
      ],
      "metadata": {
        "colab": {
          "base_uri": "https://localhost:8080/"
        },
        "id": "vtGXeRgLmH8V",
        "outputId": "30b2b4a5-7de2-474f-91aa-c379dfd527aa"
      },
      "execution_count": 18,
      "outputs": [
        {
          "output_type": "stream",
          "name": "stdout",
          "text": [
            "array1: [1 2 3 4 5 6 7 8 9]\n",
            "value: 3\n",
            "<class 'numpy.int64'>\n"
          ]
        }
      ]
    },
    {
      "cell_type": "markdown",
      "source": [
        "*인덱스에 **마이너스 기호** 이용하면 맨 뒤에서부터 지정 가능  \n",
        "*지정해서 데이터값 수정 가능"
      ],
      "metadata": {
        "id": "CcVTc1dLoni1"
      }
    },
    {
      "cell_type": "code",
      "source": [
        "print('맨 뒤의 값:', array1[-1], ' 맨 뒤에서 두 번째 값:', array1[-2])"
      ],
      "metadata": {
        "colab": {
          "base_uri": "https://localhost:8080/"
        },
        "id": "Z_dgEhKcmTQj",
        "outputId": "b83e010a-f35f-4081-b68d-1b1452cdda70"
      },
      "execution_count": 21,
      "outputs": [
        {
          "output_type": "stream",
          "name": "stdout",
          "text": [
            "맨 뒤의 값: 9  맨 뒤에서 두 번째 값: 8\n"
          ]
        }
      ]
    },
    {
      "cell_type": "code",
      "source": [
        "array1[0] = 9\n",
        "array1[8] = 0\n",
        "print('array1:', array1)"
      ],
      "metadata": {
        "colab": {
          "base_uri": "https://localhost:8080/"
        },
        "id": "lT-COhvlpVAk",
        "outputId": "63c37ac4-930c-4828-eea2-09e94018796e"
      },
      "execution_count": 22,
      "outputs": [
        {
          "output_type": "stream",
          "name": "stdout",
          "text": [
            "array1: [9 2 3 4 5 6 7 8 0]\n"
          ]
        }
      ]
    },
    {
      "cell_type": "markdown",
      "source": [
        "2차원 ndarray에서 단일 값 추출  \n",
        "`arrayName[,]`: 행, 렬 인덱스의 값 추출됨\n",
        "axis 0(행/row), axis 1(열/col), axis 2(높이) ...\n"
      ],
      "metadata": {
        "id": "9PUPCy03quYf"
      }
    },
    {
      "cell_type": "code",
      "source": [
        "array1d = np.arange(start=1, stop=10)\n",
        "array2d = array1d.reshape(3,3)\n",
        "print(array2d)\n",
        "\n",
        "print('(row=0, col=0) index 가리키는 값:', array2d[0,0])\n",
        "print('(row=0, col=1) index 가리키는 값:', array2d[0,1])\n",
        "print('(row=1, col=0) index 가리키는 값:', array2d[1,0])\n",
        "print('(row=2, col=2) index 가리키는 값:', array2d[2,2])"
      ],
      "metadata": {
        "colab": {
          "base_uri": "https://localhost:8080/"
        },
        "id": "6eqENeTbpmi8",
        "outputId": "7aebc4a6-248f-4cf6-f117-c90a150c7859"
      },
      "execution_count": 23,
      "outputs": [
        {
          "output_type": "stream",
          "name": "stdout",
          "text": [
            "[[1 2 3]\n",
            " [4 5 6]\n",
            " [7 8 9]]\n",
            "(row=0, col=0) index 가리키는 값: 1\n",
            "(row=0, col=1) index 가리키는 값: 2\n",
            "(row=1, col=0) index 가리키는 값: 4\n",
            "(row=2, col=2) index 가리키는 값: 9\n"
          ]
        }
      ]
    },
    {
      "cell_type": "markdown",
      "source": [
        "#### 슬라이싱\n",
        "\n",
        "`arrayName[:]`: <u>종료인덱스 -1</u>까지 반환하는 점 주의.\n",
        "\n",
        "- [:100] = [0(맨 처음부터):100]\n",
        "- [10:] = [10:(맨 끝까지)]\n",
        "- [:] = [(맨 처음부터):(맨 끝까지)]\n",
        "\n",
        "2차원 이상의 경우  \n",
        "`arrayName[,]`: 슬라이싱, 단일 값 인덱스 혼용 가능\n",
        "\n",
        "뒤에 오는 인덱스를 없애면 한 차원 낮아진 ndarray를 반환.\n",
        "- array2d[0] -> axis 0(row)의 첫 번째 ndarray 반환, 1차원이 됨\n"
      ],
      "metadata": {
        "id": "HNQYsIHUrg0R"
      }
    },
    {
      "cell_type": "code",
      "source": [
        "array1 = np.arange(start=1, stop=10)\n",
        "array3 = array1[0:3]\n",
        "print(array3)\n",
        "print(type(array3))"
      ],
      "metadata": {
        "colab": {
          "base_uri": "https://localhost:8080/"
        },
        "id": "o97Ymyj4qXFx",
        "outputId": "c2f54698-664d-4f38-ab37-01e608b75174"
      },
      "execution_count": 25,
      "outputs": [
        {
          "output_type": "stream",
          "name": "stdout",
          "text": [
            "[1 2 3]\n",
            "<class 'numpy.ndarray'>\n"
          ]
        }
      ]
    },
    {
      "cell_type": "code",
      "source": [
        "array1 = np.arange(start=1, stop=10)\n",
        "array4 = array1[:3]\n",
        "print(array4)\n",
        "\n",
        "array5 = array1[3:]\n",
        "print(array5)\n",
        "\n",
        "array6 = array1[:]\n",
        "print(array6)"
      ],
      "metadata": {
        "colab": {
          "base_uri": "https://localhost:8080/"
        },
        "id": "PXq7glHmr_s_",
        "outputId": "ee502bfd-fd67-4bff-f164-15ffec873518"
      },
      "execution_count": 27,
      "outputs": [
        {
          "output_type": "stream",
          "name": "stdout",
          "text": [
            "[1 2 3]\n",
            "[4 5 6 7 8 9]\n",
            "[1 2 3 4 5 6 7 8 9]\n"
          ]
        }
      ]
    },
    {
      "cell_type": "code",
      "source": [
        "array1d = np.arange(start=1, stop=10)\n",
        "array2d = array1d.reshape(3,3)\n",
        "print('array2d:\\n', array2d)\n",
        "\n",
        "print('array2d[0:2, 0:2] \\n', array2d[0:2, 0:2])\n",
        "print('array2d[1:3, 0:3] \\n', array2d[1:3, 0:3])\n",
        "print('array2d[1:3, :] \\n', array2d[1:3, :])\n",
        "print('array2d[:, :] \\n', array2d[:, :])\n",
        "print('array2d[:2, 1:] \\n', array2d[:2, 1:])\n",
        "print('array2d[:2, 0] \\n', array2d[:2, 0])"
      ],
      "metadata": {
        "colab": {
          "base_uri": "https://localhost:8080/"
        },
        "id": "2dkZ4kW2tHvz",
        "outputId": "1086428b-021e-4f56-a5ca-1ff4f11fbbdd"
      },
      "execution_count": 28,
      "outputs": [
        {
          "output_type": "stream",
          "name": "stdout",
          "text": [
            "array2d:\n",
            " [[1 2 3]\n",
            " [4 5 6]\n",
            " [7 8 9]]\n",
            "array2d[0:2, 0:2] \n",
            " [[1 2]\n",
            " [4 5]]\n",
            "array2d[1:3, 0:3] \n",
            " [[4 5 6]\n",
            " [7 8 9]]\n",
            "array2d[1:3, :] \n",
            " [[4 5 6]\n",
            " [7 8 9]]\n",
            "array2d[:, :] \n",
            " [[1 2 3]\n",
            " [4 5 6]\n",
            " [7 8 9]]\n",
            "array2d[:2, 1:] \n",
            " [[2 3]\n",
            " [5 6]]\n",
            "array2d[:2, 0] \n",
            " [1 4]\n"
          ]
        }
      ]
    },
    {
      "cell_type": "code",
      "source": [
        "print(array2d[0])\n",
        "print(array2d[1])\n",
        "print('array2d[0] shape:', array2d[0].shape, 'array2d[1] shape:', array2d[1].shape)"
      ],
      "metadata": {
        "colab": {
          "base_uri": "https://localhost:8080/"
        },
        "id": "R-Sky-CduFLf",
        "outputId": "c24acd87-fa3d-4a6b-8495-3cda139e0ad5"
      },
      "execution_count": 29,
      "outputs": [
        {
          "output_type": "stream",
          "name": "stdout",
          "text": [
            "[1 2 3]\n",
            "[4 5 6]\n",
            "array2d[0] shape: (3,) array2d[1] shape: (3,)\n"
          ]
        }
      ]
    },
    {
      "cell_type": "markdown",
      "source": [
        "#### 팬시 인덱싱\n",
        "\n",
        "인덱스 집합 지정해 해당 위치의 인덱스에 해당하는 ndarray 반환.\n"
      ],
      "metadata": {
        "id": "9LU3dJrAvfL3"
      }
    },
    {
      "cell_type": "code",
      "source": [
        "array1d = np.arange(start=1, stop=10)\n",
        "array2d = array1d.reshape(3,3)\n",
        "\n",
        "array3 = array2d[[0,1], 2] # 인덱스 (0,2), (1,2)로 적용됨\n",
        "print('array2d[[0,1],2] => ', array3.tolist())\n",
        "\n",
        "array4 = array2d[[0,1], 0:2] # 인덱스 ((0,0), (0,1)), ((1,0),(1,1)) 적용됨\n",
        "print('array2d[[0,1], 0:2] => ', array4.tolist())\n",
        "\n",
        "array5 = array2d[[0,1]] # 인덱스 ((0:), (1:)) 적용\n",
        "print('array2d[[0,1]] => ', array5.tolist())\n",
        "\n"
      ],
      "metadata": {
        "colab": {
          "base_uri": "https://localhost:8080/"
        },
        "id": "--ybpXjBu8N8",
        "outputId": "ef27f4b1-caa4-447f-ce6b-20e8156c04ed"
      },
      "execution_count": 30,
      "outputs": [
        {
          "output_type": "stream",
          "name": "stdout",
          "text": [
            "array2d[[0,1],2] =>  [3, 6]\n",
            "array2d[[0,1], 0:2] =>  [[1, 2], [4, 5]]\n",
            "array2d[[0,1]] =>  [[1, 2, 3], [4, 5, 6]]\n"
          ]
        }
      ]
    },
    {
      "cell_type": "markdown",
      "source": [
        "#### 불린 인덱싱\n",
        "\n",
        "조건 필터링 + 검색 동시에 가능.\n",
        "사용 多  \n",
        "for loop/if else 문보다 간단하게 조건문 이용 가능.\n",
        "\n",
        "`ndarrayName[ 조건문 ]`  \n",
        "1. 필터링 조건을 [] 안에 기재. T/F 조건으로 반환된 ndarray가 됨\n",
        "2. False 값은 무시, True 값이 있는 '위치 인덱스 값'이 반환\n",
        "3. 저장된 인덱스 값으로 데이터 세트 반환.\n",
        "\n"
      ],
      "metadata": {
        "id": "-jiDwWhyxfuF"
      }
    },
    {
      "cell_type": "code",
      "source": [
        "array1d = np.arange(start=1, stop=10)\n",
        "# [] 안에 array1d > 5 Boolean indexing을 적용\n",
        "array3 = array1d[array1d > 5]\n",
        "print('array1d > 5 불린 인덱싱 결과 값 :', array3)"
      ],
      "metadata": {
        "colab": {
          "base_uri": "https://localhost:8080/"
        },
        "id": "ypi4TJVkwr0H",
        "outputId": "2bbe28e9-d83b-4a8d-ddd1-7c3d15e805e3"
      },
      "execution_count": 32,
      "outputs": [
        {
          "output_type": "stream",
          "name": "stdout",
          "text": [
            "array1d > 5 불린 인덱싱 결과 값 : [6 7 8 9]\n"
          ]
        }
      ]
    },
    {
      "cell_type": "code",
      "source": [
        "array1d > 5"
      ],
      "metadata": {
        "colab": {
          "base_uri": "https://localhost:8080/"
        },
        "id": "UkExjyeK58Ig",
        "outputId": "25c18d1e-ad68-40e3-e408-75ec5e5c2ac7"
      },
      "execution_count": 33,
      "outputs": [
        {
          "output_type": "execute_result",
          "data": {
            "text/plain": [
              "array([False, False, False, False, False,  True,  True,  True,  True])"
            ]
          },
          "metadata": {},
          "execution_count": 33
        }
      ]
    },
    {
      "cell_type": "code",
      "source": [
        "boolean_indexes = np.array([False, False, False, False, False,  True,  True,  True,  True])\n",
        "array3 = array1d[boolean_indexes]\n",
        "print('불린 인덱스로 필터링 결과 :', array3)"
      ],
      "metadata": {
        "colab": {
          "base_uri": "https://localhost:8080/"
        },
        "id": "fCQbb5_j6NEf",
        "outputId": "de680b35-9b51-483a-ee9e-5da07741aabc"
      },
      "execution_count": 34,
      "outputs": [
        {
          "output_type": "stream",
          "name": "stdout",
          "text": [
            "불린 인덱스로 필터링 결과 : [6 7 8 9]\n"
          ]
        }
      ]
    },
    {
      "cell_type": "code",
      "source": [
        "indexes = np.array([5,6,7,8])\n",
        "array4 = array1d[indexes]\n",
        "print('일반 인덱스로 필터링 결과 :', array4)"
      ],
      "metadata": {
        "colab": {
          "base_uri": "https://localhost:8080/"
        },
        "id": "WGvWoV167IrH",
        "outputId": "a8e52f77-08a7-4f93-d2b0-774bf00a4d61"
      },
      "execution_count": 35,
      "outputs": [
        {
          "output_type": "stream",
          "name": "stdout",
          "text": [
            "일반 인덱스로 필터링 결과 : [6 7 8 9]\n"
          ]
        }
      ]
    },
    {
      "cell_type": "markdown",
      "source": [
        "### 행렬의 정렬 - sort()와 argsort()\n",
        "\n",
        "#### 행렬 정렬\n",
        "\n",
        "`np.sort()`: 넘파이에서 sort() 호출. 원 행렬은 그대로 유지, 정렬된 행렬을 새로 반환  \n",
        "`ndarrayName.sort()`: 행렬 자체에서 sort() 호출. 원 행렬 자체를 정렬한 형태로 변환, 반환 값 None. -> 따로 print 해야함\n",
        "\n",
        "오름차순 정렬이 기본.\n",
        "내림차순 정렬 -> **`[::-1]`** 적용.\n",
        "- np.sort()[::-1]\n",
        "\n",
        "2차원 이상의 행렬일때, axis 축 값 설정 -> 로우 방향/칼럼 방향으로 정렬 수행 가능\n",
        "- 로우 방향 정렬: np.sort(ndarrayName, axis=0).\n",
        "한 칼럼 내에서 로우방향으로 오름차순 정렬\n",
        "- 칼럼 방향 정렬: np.sort(ndarrayName, axis=1).\n",
        "한 로우 내에서 칼럼방향으로 오름차순 정렬\n",
        "\n"
      ],
      "metadata": {
        "id": "jj-DLiyg76cM"
      }
    },
    {
      "cell_type": "code",
      "source": [
        "org_array = np.array([3,1,9,5])\n",
        "print('원본 행렬:', org_array)\n",
        "# np.sort()로 정렬\n",
        "sort_array1 = np.sort(org_array)\n",
        "print('np.sort() 호출 후 반환된 정렬 행렬:', sort_array1)\n",
        "print('np.sort() 호출 후 원본 행렬:', org_array)\n",
        "# ndarray.sort()로 정렬\n",
        "sort_array2 = org_array.sort()\n",
        "print('org_array.sort() 호출 후 반환된 행렬:', sort_array2)\n",
        "print('org_array.sort() 호출 후 원본 행렬:', org_array)"
      ],
      "metadata": {
        "colab": {
          "base_uri": "https://localhost:8080/"
        },
        "id": "lCNa7yP47YIP",
        "outputId": "cf75a5d5-c60a-40fe-9556-320be54e1f5f"
      },
      "execution_count": 36,
      "outputs": [
        {
          "output_type": "stream",
          "name": "stdout",
          "text": [
            "원본 행렬: [3 1 9 5]\n",
            "np.sort() 호출 후 반환된 정렬 행렬: [1 3 5 9]\n",
            "np.sort() 호출 후 원본 행렬: [3 1 9 5]\n",
            "org_array.sort() 호출 후 반환된 행렬: None\n",
            "org_array.sort() 호출 후 원본 행렬: [1 3 5 9]\n"
          ]
        }
      ]
    },
    {
      "cell_type": "code",
      "source": [
        "sort_array1_desc = np.sort(org_array)[::-1]\n",
        "print('내림차순으로 정렬:', sort_array1_desc)"
      ],
      "metadata": {
        "colab": {
          "base_uri": "https://localhost:8080/"
        },
        "id": "Q-YqbtLg9amn",
        "outputId": "7462fd56-74ed-4546-b1f5-e1971e66d82a"
      },
      "execution_count": 38,
      "outputs": [
        {
          "output_type": "stream",
          "name": "stdout",
          "text": [
            "내림차순으로 정렬: [9 5 3 1]\n"
          ]
        }
      ]
    },
    {
      "cell_type": "code",
      "source": [
        "array2d = np.array([[8,12],\n",
        "                    [7,1]])\n",
        "\n",
        "sort_array2d_axis0 = np.sort(array2d, axis=0)\n",
        "print('로우 방향으로 정렬:\\n', sort_array2d_axis0)\n",
        "\n",
        "sort_array2d_axis1 = np.sort(array2d, axis=1)\n",
        "print('칼럼 방향으로 정렬:\\n', sort_array2d_axis1)"
      ],
      "metadata": {
        "colab": {
          "base_uri": "https://localhost:8080/"
        },
        "id": "T4kpvQm2-Zr1",
        "outputId": "106b6a26-131d-496c-a764-1680059ba450"
      },
      "execution_count": 39,
      "outputs": [
        {
          "output_type": "stream",
          "name": "stdout",
          "text": [
            "로우 방향으로 정렬:\n",
            " [[ 7  1]\n",
            " [ 8 12]]\n",
            "칼럼 방향으로 정렬:\n",
            " [[ 8 12]\n",
            " [ 1  7]]\n"
          ]
        }
      ]
    },
    {
      "cell_type": "markdown",
      "source": [
        "#### 정렬된 행렬의 인덱스를 반환하기\n",
        "\n",
        "**`np.argsort()`**: 원본 행렬이 정렬되었을 때, 정렬된 행렬의 기존 원본 행렬의 원소 인덱스를 반환.\n",
        "\n",
        "내림차순 정렬 시 `np.argsort()[::-1]`\n",
        "\n",
        "넘파이의 데이터 추출에서 많이 사용됨.\n",
        "실제 값과 그 값이 뜻하는 메타데이터를 별도의 ndarray로 각각 가져야 할 때 사용 多\n",
        "\n",
        "\n"
      ],
      "metadata": {
        "id": "QqA8xHVyATmK"
      }
    },
    {
      "cell_type": "code",
      "source": [
        "org_array = np.array([3,1,9,5])\n",
        "sort_indices = np.argsort(org_array)\n",
        "print(type(sort_indices))\n",
        "print('행렬 정렬 시 원본 행렬의 인덱스:', sort_indices)"
      ],
      "metadata": {
        "colab": {
          "base_uri": "https://localhost:8080/"
        },
        "id": "z_uovtUB-7el",
        "outputId": "cf5e3785-0e45-45f5-9a36-e8fc523d260b"
      },
      "execution_count": 40,
      "outputs": [
        {
          "output_type": "stream",
          "name": "stdout",
          "text": [
            "<class 'numpy.ndarray'>\n",
            "행렬 정렬 시 원본 행렬의 인덱스: [1 0 3 2]\n"
          ]
        }
      ]
    },
    {
      "cell_type": "code",
      "source": [
        "org_array = np.array([3,1,9,5])\n",
        "sort_indices_desc = np.argsort(org_array)[::-1]\n",
        "print('행렬 내림차순 정렬 시 원본 행렬의 인덱스:', sort_indices_desc)"
      ],
      "metadata": {
        "colab": {
          "base_uri": "https://localhost:8080/"
        },
        "id": "NRL5SQjtBhDD",
        "outputId": "614b2e4d-57e3-48c8-94f2-ed7d98d90171"
      },
      "execution_count": 41,
      "outputs": [
        {
          "output_type": "stream",
          "name": "stdout",
          "text": [
            "행렬 내림차순 정렬 시 원본 행렬의 인덱스: [2 3 0 1]\n"
          ]
        }
      ]
    },
    {
      "cell_type": "code",
      "source": [
        "import numpy as np\n",
        "\n",
        "name_array = np.array(['John', 'Mike', 'Sarah', 'Kate', 'Samuel'])\n",
        "score_array = np.array([78,95,84,98,88])\n",
        "\n",
        "sort_indices_asc = np.argsort(score_array)\n",
        "print('성적 오름차순 정렬 시 score_array의 인덱스:', sort_indices_asc)\n",
        "print('성적 오름차순으로 name_array의 이름 출력:', name_array[sort_indices_asc])"
      ],
      "metadata": {
        "colab": {
          "base_uri": "https://localhost:8080/"
        },
        "id": "jgY6_klmC90O",
        "outputId": "477d0b2c-5621-4e82-a191-13d0e5e2f882"
      },
      "execution_count": 42,
      "outputs": [
        {
          "output_type": "stream",
          "name": "stdout",
          "text": [
            "성적 오름차순 정렬 시 score_array의 인덱스: [0 2 4 1 3]\n",
            "성적 오름차순으로 name_array의 이름 출력: ['John' 'Sarah' 'Samuel' 'Mike' 'Kate']\n"
          ]
        }
      ]
    },
    {
      "cell_type": "markdown",
      "source": [
        "### 선형대수 연산 - 행렬 내적과 전치 행렬 구하기\n",
        "\n",
        "#### 행렬 내적(행렬 곱)\n",
        "\n",
        "`up.dot(,)`\n",
        "앞 행렬의 low와 뒤 행렬의 col의 원소들을 순차적으로 곱한 뒤 그 결과를 모두 더한 값. low부터 채우게 됨.\n",
        "- 내적 결과 n행 m열 = A행렬의 n행 X B행렬의 M열 차례로 곱해 더한 값.\n",
        "- A행렬의 n행 = B행렬의 M열 개수 동일해야 함\n",
        "\n",
        "\n",
        "#### 전치 행렬\n",
        "\n",
        "`transpose()`\n",
        "\n",
        "원 행렬에서 행과 열 위치를 교환한 행렬.\n",
        "- A행렬의 n행 M열 -> M행 n열로 교환.\n",
        "- A^T로 표기"
      ],
      "metadata": {
        "id": "mwcwCoAmETYX"
      }
    },
    {
      "cell_type": "code",
      "source": [
        "A = np.array([[1,2,3],\n",
        "              [4,5,6]])\n",
        "B = np.array( [[7,8],\n",
        "               [9,10],\n",
        "               [11,12]])\n",
        "dot_product = np.dot(A,B)\n",
        "print('행렬 내적 결과: \\n', dot_product)"
      ],
      "metadata": {
        "colab": {
          "base_uri": "https://localhost:8080/"
        },
        "id": "H_XuRG74D3FH",
        "outputId": "260d7941-597c-4c2c-81db-8509c419fff7"
      },
      "execution_count": 43,
      "outputs": [
        {
          "output_type": "stream",
          "name": "stdout",
          "text": [
            "행렬 내적 결과: \n",
            " [[ 58  64]\n",
            " [139 154]]\n"
          ]
        }
      ]
    },
    {
      "cell_type": "code",
      "source": [
        "A = np.array([[1,2],\n",
        "              [3,4]])\n",
        "transpose_mat = np.transpose(A)\n",
        "print('A의 전치 행렬:\\n', transpose_mat)"
      ],
      "metadata": {
        "colab": {
          "base_uri": "https://localhost:8080/"
        },
        "id": "JDNzevZPFZuu",
        "outputId": "5d716235-cd83-44c2-fe22-dcb1f664e28c"
      },
      "execution_count": 44,
      "outputs": [
        {
          "output_type": "stream",
          "name": "stdout",
          "text": [
            "A의 전치 행렬:\n",
            " [[1 3]\n",
            " [2 4]]\n"
          ]
        }
      ]
    }
  ]
}