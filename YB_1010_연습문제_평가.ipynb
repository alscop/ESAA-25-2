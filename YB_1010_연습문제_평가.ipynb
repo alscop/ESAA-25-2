{
  "nbformat": 4,
  "nbformat_minor": 0,
  "metadata": {
    "colab": {
      "provenance": [],
      "include_colab_link": true
    },
    "kernelspec": {
      "name": "python3",
      "display_name": "Python 3"
    },
    "language_info": {
      "name": "python"
    }
  },
  "cells": [
    {
      "cell_type": "markdown",
      "metadata": {
        "id": "view-in-github",
        "colab_type": "text"
      },
      "source": [
        "<a href=\"https://colab.research.google.com/github/alscop/ESAA-25-2/blob/main/YB_1010_%EC%97%B0%EC%8A%B5%EB%AC%B8%EC%A0%9C_%ED%8F%89%EA%B0%80.ipynb\" target=\"_parent\"><img src=\"https://colab.research.google.com/assets/colab-badge.svg\" alt=\"Open In Colab\"/></a>"
      ]
    },
    {
      "cell_type": "code",
      "metadata": {
        "id": "4Zqc4O_BfWqZ",
        "colab": {
          "base_uri": "https://localhost:8080/"
        },
        "outputId": "be6b300b-b050-40ad-a2ac-447f47c58eef"
      },
      "source": [
        "# 모듈 및 데이터 로드\n",
        "from sklearn.datasets import load_breast_cancer\n",
        "from sklearn.linear_model import LogisticRegression\n",
        "\n",
        "data = load_breast_cancer()\n",
        "\n",
        "# x, y 데이터 생성\n",
        "X = data.data\n",
        "\n",
        "# 악성을 1, 양성을 0으로\n",
        "y = 1 - data.target\n",
        "\n",
        "# 특징으로 사용할 데이터를 평균으로 구분하는 10개 열로 축소\n",
        "X = X[:, :10]\n",
        "\n",
        "# 로지스틱 회귀 모델 생성\n",
        "model_lor = LogisticRegression(solver = 'lbfgs')\n",
        "model_lor.fit(X,y)\n",
        "y_pred = model_lor.predict(X)"
      ],
      "execution_count": 1,
      "outputs": [
        {
          "output_type": "stream",
          "name": "stderr",
          "text": [
            "/usr/local/lib/python3.12/dist-packages/sklearn/linear_model/_logistic.py:465: ConvergenceWarning: lbfgs failed to converge (status=1):\n",
            "STOP: TOTAL NO. OF ITERATIONS REACHED LIMIT.\n",
            "\n",
            "Increase the number of iterations (max_iter) or scale the data as shown in:\n",
            "    https://scikit-learn.org/stable/modules/preprocessing.html\n",
            "Please also refer to the documentation for alternative solver options:\n",
            "    https://scikit-learn.org/stable/modules/linear_model.html#logistic-regression\n",
            "  n_iter_i = _check_optimize_result(\n"
          ]
        }
      ]
    },
    {
      "cell_type": "markdown",
      "metadata": {
        "id": "faoAfc1ZgAcq"
      },
      "source": [
        "**오차 행렬(혼동 행렬) 생성**"
      ]
    },
    {
      "cell_type": "code",
      "metadata": {
        "id": "JdML8YM0gBtu",
        "colab": {
          "base_uri": "https://localhost:8080/"
        },
        "outputId": "25f3d57f-55a0-433d-dc46-ff010826818a"
      },
      "source": [
        "# 종속 변수와 예측 결과로 혼동 행렬 생성\n",
        "from sklearn.metrics import confusion_matrix\n",
        "confusion_matrix(y, y_pred)"
      ],
      "execution_count": 2,
      "outputs": [
        {
          "output_type": "execute_result",
          "data": {
            "text/plain": [
              "array([[337,  20],\n",
              "       [ 30, 182]])"
            ]
          },
          "metadata": {},
          "execution_count": 2
        }
      ]
    },
    {
      "cell_type": "markdown",
      "metadata": {
        "id": "xbcK3rT-gFRk"
      },
      "source": [
        "**정확도의 개념을 설명하고, 정확도를 구해 해당 값을 통해 알 수 있는 점을 쓰시오.**"
      ]
    },
    {
      "cell_type": "markdown",
      "source": [
        "정확도(Accuracy): 전체 샘플 중 맞게 예측한 비율  \n",
        "정답 예측 개수 / 전체 데이터 개수\n",
        "\n"
      ],
      "metadata": {
        "id": "FFHJBEAIc9Lm"
      }
    },
    {
      "cell_type": "code",
      "metadata": {
        "id": "NLiXFuYvgI1e",
        "colab": {
          "base_uri": "https://localhost:8080/"
        },
        "outputId": "4ab36ce3-869a-4300-cef4-616745fb9c94"
      },
      "source": [
        "from sklearn.metrics import accuracy_score\n",
        "accuracy_score(y, y_pred)"
      ],
      "execution_count": 4,
      "outputs": [
        {
          "output_type": "execute_result",
          "data": {
            "text/plain": [
              "0.9121265377855887"
            ]
          },
          "metadata": {},
          "execution_count": 4
        }
      ]
    },
    {
      "cell_type": "markdown",
      "source": [
        "정확도가 약 91.2%다. 전체 샘플 중 약 91.2%를 모델이 맞게 예측한 것이다."
      ],
      "metadata": {
        "id": "bVSGeFqwjpAJ"
      }
    },
    {
      "cell_type": "markdown",
      "metadata": {
        "id": "UYnVZS9igNNf"
      },
      "source": [
        "**정밀도의 개념을 설명하고, 정확도를 구해 해당 값을 통해 알 수 있는 점을 쓰시오.**"
      ]
    },
    {
      "cell_type": "markdown",
      "source": [
        "정밀도(Precision): 양성으로 예측한 것 중 실제 양성인 비율\n",
        "TP / TP + FP\n",
        "\n",
        "TP: 실제 악성, 악성으로 예측됨(예측결과 맞음)  \n",
        "FP: 실제 양성, 악성으로 예측됨(예측결과 틀림)\n"
      ],
      "metadata": {
        "id": "faRcu7cddByU"
      }
    },
    {
      "cell_type": "code",
      "metadata": {
        "id": "j108NueLgMKF",
        "colab": {
          "base_uri": "https://localhost:8080/"
        },
        "outputId": "96247264-c2ba-4f89-d984-1c822c7afaa9"
      },
      "source": [
        "from sklearn.metrics import precision_score\n",
        "precision_score(y,y_pred)"
      ],
      "execution_count": 5,
      "outputs": [
        {
          "output_type": "execute_result",
          "data": {
            "text/plain": [
              "0.900990099009901"
            ]
          },
          "metadata": {},
          "execution_count": 5
        }
      ]
    },
    {
      "cell_type": "markdown",
      "source": [
        "정밀도가 약 0.901. 모델이 악성이라고 예측했을 때, 그 중 실제로 악성일 확률이 90%정도라는 뜻."
      ],
      "metadata": {
        "id": "ggmYtmyqj9ye"
      }
    },
    {
      "cell_type": "markdown",
      "metadata": {
        "id": "2-MBquNJZOM4"
      },
      "source": [
        "**재현율의 개념을 설명하고, 정확도를 구해 해당 값을 통해 알 수 있는 점을 쓰시오.**"
      ]
    },
    {
      "cell_type": "markdown",
      "source": [
        "재현율(Recall) (민감도): 실제 양성 중 양성으로 올바르게 예측한 비율\n",
        "\n",
        "TP / TP+FN\n",
        "\n",
        "재현율이 높을수록 악성을 제대로 판단한다는 뜻."
      ],
      "metadata": {
        "id": "oAYjcPB_dEiw"
      }
    },
    {
      "cell_type": "code",
      "metadata": {
        "id": "uje4ivPvZPwv",
        "colab": {
          "base_uri": "https://localhost:8080/"
        },
        "outputId": "cc712aa8-be70-430a-a38d-c3aa30fa35e8"
      },
      "source": [
        "from sklearn.metrics import recall_score\n",
        "recall_score(y, y_pred)"
      ],
      "execution_count": 6,
      "outputs": [
        {
          "output_type": "execute_result",
          "data": {
            "text/plain": [
              "0.8584905660377359"
            ]
          },
          "metadata": {},
          "execution_count": 6
        }
      ]
    },
    {
      "cell_type": "markdown",
      "source": [
        "재현율 약 0.8585로, 실제 악성 샘플 중 약 86%는 악성으로 올바르게 감지했으나, 약 14%는 악성임에도 양성이라고 잘못 판단해 놓쳤다는 뜻이다."
      ],
      "metadata": {
        "id": "4Y59P2wQkZ3O"
      }
    },
    {
      "cell_type": "markdown",
      "metadata": {
        "id": "Cw1p3yjagUCH"
      },
      "source": [
        "**F1 score의 개념을 설명하고, 정확도를 구해 해당 값을 통해 알 수 있는 점을 쓰시오.**"
      ]
    },
    {
      "cell_type": "markdown",
      "source": [
        "F1 점수(F1 Score): 정밀도와 재현율의 조화 평균\n",
        "\n",
        "정밀도와 재현율을 결합한 지표.  \n",
        "정밀도와 재현율이 어느 한 쪽으로 치우치지 않을 때 상대적으로 높은 값을 가진다.\n",
        "\n",
        "2 x (precision x recall)/(precision + recall)\n",
        "\n"
      ],
      "metadata": {
        "id": "o3XXKqjYdHZD"
      }
    },
    {
      "cell_type": "code",
      "metadata": {
        "id": "hPdtYdoDgYgV",
        "colab": {
          "base_uri": "https://localhost:8080/"
        },
        "outputId": "0f49c0ae-efe2-4dfc-a81e-0c6f62dde99e"
      },
      "source": [
        "from sklearn.metrics import f1_score\n",
        "f1_score(y, y_pred)"
      ],
      "execution_count": 7,
      "outputs": [
        {
          "output_type": "execute_result",
          "data": {
            "text/plain": [
              "0.8792270531400966"
            ]
          },
          "metadata": {},
          "execution_count": 7
        }
      ]
    },
    {
      "cell_type": "markdown",
      "source": [
        "F1 score가 약 0.8792다. 모델이 악성, 양성을 잘 구분하며 신뢰할 만한 예측 결과를 제공한다."
      ],
      "metadata": {
        "id": "wazvfqJckue0"
      }
    },
    {
      "cell_type": "markdown",
      "metadata": {
        "id": "fzwIFsKOW5a1"
      },
      "source": [
        "**예측 확률(pred_proba) : 0으로 예측할 확률이 0.1보다 크면 y_pred2 에 넣는다 가정.**"
      ]
    },
    {
      "cell_type": "code",
      "metadata": {
        "id": "nw9dxOiPW40l"
      },
      "source": [
        "from sklearn.preprocessing import Binarizer\n",
        "\n",
        "pred_proba = model_lor.predict_proba(X)\n",
        "pred_proba1 = pred_proba[:, 1].reshape(-1, 1)\n",
        "binarizer = Binarizer(threshold=0.1)\n",
        "y_pred2 = binarizer.transform(pred_proba1)"
      ],
      "execution_count": 8,
      "outputs": []
    },
    {
      "cell_type": "code",
      "metadata": {
        "id": "Y-WrHrICYFB1",
        "colab": {
          "base_uri": "https://localhost:8080/"
        },
        "outputId": "ca2529a0-8940-43cb-b3e9-8c163bd9e492"
      },
      "source": [
        "# y과 y_pred2의 혼동행렬, 정확도, 정밀도, 재현율, f1 score 구하기\n",
        "confusion_matrix(y,y_pred2)  # 혼동행렬\n",
        "accuracy_score(y, y_pred2) # 정확도\n",
        "precision_score(y,y_pred2) # 정밀도\n",
        "recall_score(y,y_pred2) # 재현율\n",
        "f1_score(y, y_pred2) # f1 score"
      ],
      "execution_count": 10,
      "outputs": [
        {
          "output_type": "execute_result",
          "data": {
            "text/plain": [
              "0.8110236220472441"
            ]
          },
          "metadata": {},
          "execution_count": 10
        }
      ]
    },
    {
      "cell_type": "markdown",
      "metadata": {
        "id": "itgf_OjsjU-R"
      },
      "source": [
        "**ROC 곡선 시각화**"
      ]
    },
    {
      "cell_type": "code",
      "metadata": {
        "id": "DW75xBokjXKy",
        "colab": {
          "base_uri": "https://localhost:8080/",
          "height": 564
        },
        "outputId": "b000a3b3-3fe8-4d10-8fd9-f3fc939ff3b7"
      },
      "source": [
        "from sklearn.metrics import roc_curve\n",
        "import matplotlib.pyplot as plt\n",
        "\n",
        "y_proba = model_lor.predict_proba(X)[:, 1]\n",
        "\n",
        "fpr, tpr, thresholds = roc_curve(y, y_proba)\n",
        "\n",
        "plt.figure(figsize = (7,6))\n",
        "plt.plot(fpr, tpr, color ='blue', lw=2, label='ROC Curve')\n",
        "plt.plot([0,1], [0,1], color='gray', linestyle='--', label='Random Guess')\n",
        "plt.xlabel('False Positive Rate')\n",
        "plt.ylabel('True Positive Rate')\n",
        "plt.title('Roc Curve')\n",
        "plt.legend(loc='lower right')\n",
        "plt.grid(True)\n",
        "plt.show()"
      ],
      "execution_count": 12,
      "outputs": [
        {
          "output_type": "display_data",
          "data": {
            "text/plain": [
              "<Figure size 700x600 with 1 Axes>"
            ],
            "image/png": "[encoded data removed]"
          },
          "metadata": {}
        }
      ]
    },
    {
      "cell_type": "markdown",
      "metadata": {
        "id": "fL4as0YsWYD7"
      },
      "source": [
        "**ROC AUC 값을 구하고 해당 값을 통해 알 수 있는 점을 쓰시오.**"
      ]
    },
    {
      "cell_type": "code",
      "metadata": {
        "id": "-SEElVZTWaVp",
        "colab": {
          "base_uri": "https://localhost:8080/"
        },
        "outputId": "9cc5ba5c-bfb3-43c0-ac7b-19df3a732175"
      },
      "source": [
        "from sklearn.metrics import roc_auc_score\n",
        "\n",
        "# 예측 확률\n",
        "y_proba = model_lor.predict_proba(X)[:, 1]\n",
        "\n",
        "# AUC 계산\n",
        "auc_score = roc_auc_score(y, y_proba)\n",
        "print('ROC AUC:', auc_score)"
      ],
      "execution_count": 13,
      "outputs": [
        {
          "output_type": "stream",
          "name": "stdout",
          "text": [
            "ROC AUC: 0.974076423022039\n"
          ]
        }
      ]
    },
    {
      "cell_type": "markdown",
      "source": [
        "ROC AUC 값이 약 0.9741로 1에 가깝다. 즉 모델이 악성, 양성을 잘 구분할 수 있다고 생각할 수 있다."
      ],
      "metadata": {
        "id": "PW9u_YIpjPJt"
      }
    }
  ]
}